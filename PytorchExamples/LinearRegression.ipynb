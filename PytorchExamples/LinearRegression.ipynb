{
  "nbformat": 4,
  "nbformat_minor": 0,
  "metadata": {
    "colab": {
      "name": "LinearRegression.ipynb",
      "provenance": []
    },
    "kernelspec": {
      "name": "python3",
      "display_name": "Python 3"
    },
    "language_info": {
      "name": "python"
    }
  },
  "cells": [
    {
      "cell_type": "code",
      "metadata": {
        "id": "T8uH-aghxcPM"
      },
      "source": [
        "import torch\n",
        "import torch.nn as nn\n",
        "import numpy as np\n",
        "import matplotlib.pyplot as plt "
      ],
      "execution_count": null,
      "outputs": []
    },
    {
      "cell_type": "code",
      "metadata": {
        "id": "a7CoF4XM4gbH"
      },
      "source": [
        "N = 20 \n",
        "X = np.random.random(N) * 10 - 5  #(-5,5)\n",
        "Y = 0.5 * X -1 + np.random.randn(N) # with gaussian error"
      ],
      "execution_count": null,
      "outputs": []
    },
    {
      "cell_type": "code",
      "metadata": {
        "colab": {
          "base_uri": "https://localhost:8080/",
          "height": 265
        },
        "id": "U1stvSBn4jIB",
        "outputId": "62884015-fb7f-41d3-e200-33c5c18ec4e7"
      },
      "source": [
        "plt.scatter(X,Y);"
      ],
      "execution_count": null,
      "outputs": [
        {
          "output_type": "display_data",
          "data": {
            "image/png": "[encoded data removed]",
            "text/plain": [
              "<Figure size 432x288 with 1 Axes>"
            ]
          },
          "metadata": {
            "tags": [],
            "needs_background": "light"
          }
        }
      ]
    },
    {
      "cell_type": "markdown",
      "metadata": {
        "id": "nvi1ekx-4ue0"
      },
      "source": [
        "# Linear Regression Model"
      ]
    },
    {
      "cell_type": "code",
      "metadata": {
        "id": "pcFVN6gD42_S"
      },
      "source": [
        "# 1. Build the Model\n",
        "model = nn.Linear(1,1)"
      ],
      "execution_count": null,
      "outputs": []
    },
    {
      "cell_type": "code",
      "metadata": {
        "id": "Q3VkxXj65QVO"
      },
      "source": [
        "# 2. Train the Model\n",
        "# 2.1 Define Optimizer & Loss Function\n",
        "criterion = nn.MSELoss()\n",
        "optimizer = torch.optim.SGD(model.parameters(),lr = 0.1)"
      ],
      "execution_count": null,
      "outputs": []
    },
    {
      "cell_type": "code",
      "metadata": {
        "id": "DhGeM1AA5-zG"
      },
      "source": [
        "# 2.2 Preprocessing Data\n",
        "X = X.reshape(-1,1)\n",
        "Y = Y.reshape(-1,1)\n",
        "# Convert From Numpy Arrays to Pytorch Tensors\n",
        "inputs = torch.from_numpy(X.astype('float32')) #PYTORCH uses float32 by default\n",
        "targets = torch.from_numpy(Y.astype('float32'))#NUMPY uses float64 by default"
      ],
      "execution_count": null,
      "outputs": []
    },
    {
      "cell_type": "code",
      "metadata": {
        "colab": {
          "base_uri": "https://localhost:8080/"
        },
        "id": "pvhsCUCE659C",
        "outputId": "b89258e0-62ec-42d0-ecfe-b190f3797e44"
      },
      "source": [
        "# 2.2 Training process\n",
        "losses = []\n",
        "n_epochs = 30 \n",
        "for it in range(n_epochs):\n",
        "  #Sets all gradients to Zero\n",
        "  #It prevents the accumulation of gradients made in backward()\n",
        "  model.zero_grad()\n",
        "\n",
        "  #Forward Pass\n",
        "  outputs = model(inputs) #get the predictions\n",
        "  loss = criterion(outputs,targets)\n",
        "  losses.append(loss.item()) #extract loss (Scalar Tensor)\n",
        "\n",
        "  #Backward and Optimize\n",
        "  loss.backward() #get the gradients\n",
        "  optimizer.step()#optimze with a gradient step\n",
        "  print(f'Epoch {it + 1} / {n_epochs}, Loss: {loss.item():0.4}')"
      ],
      "execution_count": null,
      "outputs": [
        {
          "output_type": "stream",
          "text": [
            "Epoch 1 / 30, Loss: 3.211\n",
            "Epoch 2 / 30, Loss: 2.003\n",
            "Epoch 3 / 30, Loss: 1.666\n",
            "Epoch 4 / 30, Loss: 1.529\n",
            "Epoch 5 / 30, Loss: 1.455\n",
            "Epoch 6 / 30, Loss: 1.409\n",
            "Epoch 7 / 30, Loss: 1.379\n",
            "Epoch 8 / 30, Loss: 1.36\n",
            "Epoch 9 / 30, Loss: 1.347\n",
            "Epoch 10 / 30, Loss: 1.338\n",
            "Epoch 11 / 30, Loss: 1.333\n",
            "Epoch 12 / 30, Loss: 1.329\n",
            "Epoch 13 / 30, Loss: 1.327\n",
            "Epoch 14 / 30, Loss: 1.325\n",
            "Epoch 15 / 30, Loss: 1.324\n",
            "Epoch 16 / 30, Loss: 1.323\n",
            "Epoch 17 / 30, Loss: 1.323\n",
            "Epoch 18 / 30, Loss: 1.323\n",
            "Epoch 19 / 30, Loss: 1.322\n",
            "Epoch 20 / 30, Loss: 1.322\n",
            "Epoch 21 / 30, Loss: 1.322\n",
            "Epoch 22 / 30, Loss: 1.322\n",
            "Epoch 23 / 30, Loss: 1.322\n",
            "Epoch 24 / 30, Loss: 1.322\n",
            "Epoch 25 / 30, Loss: 1.322\n",
            "Epoch 26 / 30, Loss: 1.322\n",
            "Epoch 27 / 30, Loss: 1.322\n",
            "Epoch 28 / 30, Loss: 1.322\n",
            "Epoch 29 / 30, Loss: 1.322\n",
            "Epoch 30 / 30, Loss: 1.322\n"
          ],
          "name": "stdout"
        }
      ]
    },
    {
      "cell_type": "code",
      "metadata": {
        "id": "BraEUaIC8t7-"
      },
      "source": [
        "# 3. Predictions\n",
        "# detach the numpy array from all the info model tracks\n",
        "predictions = model(inputs).detach().numpy() "
      ],
      "execution_count": null,
      "outputs": []
    },
    {
      "cell_type": "code",
      "metadata": {
        "colab": {
          "base_uri": "https://localhost:8080/",
          "height": 265
        },
        "id": "Cl_CS2mz9EdF",
        "outputId": "7c8c9832-f2b5-412a-ebbe-0f59e837510e"
      },
      "source": [
        "plt.plot(losses);"
      ],
      "execution_count": null,
      "outputs": [
        {
          "output_type": "display_data",
          "data": {
            "image/png": "[encoded data removed]",
            "text/plain": [
              "<Figure size 432x288 with 1 Axes>"
            ]
          },
          "metadata": {
            "tags": [],
            "needs_background": "light"
          }
        }
      ]
    },
    {
      "cell_type": "code",
      "metadata": {
        "colab": {
          "base_uri": "https://localhost:8080/",
          "height": 265
        },
        "id": "vVMcboJk9yBJ",
        "outputId": "54a21295-a8af-4150-b0e3-cd0f34c95794"
      },
      "source": [
        "# Plot the graph\n",
        "plt.scatter(X,Y,label = 'Original Data')\n",
        "plt.plot(X,predictions, label = 'Fitted Line')\n",
        "plt.legend()\n",
        "plt.show();"
      ],
      "execution_count": null,
      "outputs": [
        {
          "output_type": "display_data",
          "data": {
            "image/png": "[encoded data removed]",
            "text/plain": [
              "<Figure size 432x288 with 1 Axes>"
            ]
          },
          "metadata": {
            "tags": [],
            "needs_background": "light"
          }
        }
      ]
    },
    {
      "cell_type": "code",
      "metadata": {
        "colab": {
          "base_uri": "https://localhost:8080/"
        },
        "id": "sJl4Mp2v-LgJ",
        "outputId": "9a667627-43e2-4280-91d5-1d9a597d2d89"
      },
      "source": [
        "# Weights\n",
        "w = model.weight.data.numpy()\n",
        "b = model.bias.data.numpy()\n",
        "print(w,b)"
      ],
      "execution_count": null,
      "outputs": [
        {
          "output_type": "stream",
          "text": [
            "[[0.50780517]] [-1.1770841]\n"
          ],
          "name": "stdout"
        }
      ]
    }
  ]
}