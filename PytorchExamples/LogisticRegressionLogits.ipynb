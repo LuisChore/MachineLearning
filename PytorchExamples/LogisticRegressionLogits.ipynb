{
  "nbformat": 4,
  "nbformat_minor": 0,
  "metadata": {
    "colab": {
      "name": "LogisticRegressionLogits.ipynb",
      "provenance": [],
      "toc_visible": true
    },
    "kernelspec": {
      "name": "python3",
      "display_name": "Python 3"
    },
    "language_info": {
      "name": "python"
    }
  },
  "cells": [
    {
      "cell_type": "markdown",
      "metadata": {
        "id": "uay41ppcIEWR"
      },
      "source": [
        "## Logistic Regression with Pytorch & Binary Cross Entropy Loss Function with Logits"
      ]
    },
    {
      "cell_type": "code",
      "metadata": {
        "id": "8wc7RnbzH-g_"
      },
      "source": [
        "import torch\n",
        "import torch.nn as nn\n",
        "import numpy as np\n",
        "import matplotlib.pyplot as plt"
      ],
      "execution_count": 1,
      "outputs": []
    },
    {
      "cell_type": "markdown",
      "metadata": {
        "id": "KMCl_PLhNZoK"
      },
      "source": [
        "### LOAD THE DATA"
      ]
    },
    {
      "cell_type": "code",
      "metadata": {
        "id": "m3xsUsRJLQA-"
      },
      "source": [
        "from sklearn.datasets import load_breast_cancer\n",
        "data = load_breast_cancer()"
      ],
      "execution_count": 2,
      "outputs": []
    },
    {
      "cell_type": "code",
      "metadata": {
        "colab": {
          "base_uri": "https://localhost:8080/"
        },
        "id": "I7ZP_sjNLfUt",
        "outputId": "a054b3e4-5186-43bf-9fc7-d47e2e5aef5b"
      },
      "source": [
        "# Review the data\n",
        "data.keys()"
      ],
      "execution_count": 3,
      "outputs": [
        {
          "output_type": "execute_result",
          "data": {
            "text/plain": [
              "dict_keys(['data', 'target', 'target_names', 'DESCR', 'feature_names', 'filename'])"
            ]
          },
          "metadata": {
            "tags": []
          },
          "execution_count": 3
        }
      ]
    },
    {
      "cell_type": "code",
      "metadata": {
        "colab": {
          "base_uri": "https://localhost:8080/"
        },
        "id": "Xed1mcP5Lob0",
        "outputId": "4752c7b3-e85a-453e-e447-b6497db8a9e0"
      },
      "source": [
        "print(data.data.shape)\n",
        "print(data.target.shape)"
      ],
      "execution_count": 4,
      "outputs": [
        {
          "output_type": "stream",
          "text": [
            "(569, 30)\n",
            "(569,)\n"
          ],
          "name": "stdout"
        }
      ]
    },
    {
      "cell_type": "code",
      "metadata": {
        "colab": {
          "base_uri": "https://localhost:8080/"
        },
        "id": "2Km66xHbLvrN",
        "outputId": "65fa7b6d-457f-4e8a-b5aa-8e0b63a89358"
      },
      "source": [
        "N,D = data.data.shape\n",
        "data.feature_names"
      ],
      "execution_count": 5,
      "outputs": [
        {
          "output_type": "execute_result",
          "data": {
            "text/plain": [
              "array(['mean radius', 'mean texture', 'mean perimeter', 'mean area',\n",
              "       'mean smoothness', 'mean compactness', 'mean concavity',\n",
              "       'mean concave points', 'mean symmetry', 'mean fractal dimension',\n",
              "       'radius error', 'texture error', 'perimeter error', 'area error',\n",
              "       'smoothness error', 'compactness error', 'concavity error',\n",
              "       'concave points error', 'symmetry error',\n",
              "       'fractal dimension error', 'worst radius', 'worst texture',\n",
              "       'worst perimeter', 'worst area', 'worst smoothness',\n",
              "       'worst compactness', 'worst concavity', 'worst concave points',\n",
              "       'worst symmetry', 'worst fractal dimension'], dtype='<U23')"
            ]
          },
          "metadata": {
            "tags": []
          },
          "execution_count": 5
        }
      ]
    },
    {
      "cell_type": "code",
      "metadata": {
        "colab": {
          "base_uri": "https://localhost:8080/"
        },
        "id": "t965cVLKL42T",
        "outputId": "942b99af-f907-498c-a4e8-287f4d496e27"
      },
      "source": [
        "data.target_names"
      ],
      "execution_count": 6,
      "outputs": [
        {
          "output_type": "execute_result",
          "data": {
            "text/plain": [
              "array(['malignant', 'benign'], dtype='<U9')"
            ]
          },
          "metadata": {
            "tags": []
          },
          "execution_count": 6
        }
      ]
    },
    {
      "cell_type": "code",
      "metadata": {
        "id": "oPHOd2YAL6MD"
      },
      "source": [
        "# PREPROCESSING\n",
        "from sklearn.preprocessing import StandardScaler\n",
        "from sklearn.model_selection import train_test_split"
      ],
      "execution_count": 7,
      "outputs": []
    },
    {
      "cell_type": "code",
      "metadata": {
        "id": "0c0wWRX8MlWn"
      },
      "source": [
        "#Split data\n",
        "x_train,x_test,y_train,y_test = train_test_split(data.data,data.target,test_size = 0.33)"
      ],
      "execution_count": 8,
      "outputs": []
    },
    {
      "cell_type": "code",
      "metadata": {
        "id": "oCD7EZF5MnRo"
      },
      "source": [
        "#Scale data\n",
        "scaler = StandardScaler()\n",
        "x_train = scaler.fit_transform(x_train) #only fit my traing data\n",
        "x_test = scaler.transform(x_test) # use already fitted scaler to transform"
      ],
      "execution_count": 9,
      "outputs": []
    },
    {
      "cell_type": "code",
      "metadata": {
        "id": "Yi2iPN7ENDBN"
      },
      "source": [
        "#transform data\n",
        "x_train = torch.from_numpy(x_train.astype(np.float32)) #Pytorch uses float32\n",
        "y_train = torch.from_numpy(y_train.astype(np.float32).reshape(-1,1)) # Pytorch targets are 2D\n",
        "\n",
        "x_test = torch.from_numpy(x_test.astype(np.float32))\n",
        "y_test = torch.from_numpy(y_test.astype(np.float32).reshape(-1,1))"
      ],
      "execution_count": 10,
      "outputs": []
    },
    {
      "cell_type": "markdown",
      "metadata": {
        "id": "4GvssDNxOta4"
      },
      "source": [
        "### CREATE MODEL WITH LOGITS"
      ]
    },
    {
      "cell_type": "code",
      "metadata": {
        "id": "l_4AiemWO5fR"
      },
      "source": [
        "model =nn.Linear(D,1)"
      ],
      "execution_count": 11,
      "outputs": []
    },
    {
      "cell_type": "code",
      "metadata": {
        "id": "mhGoQve7PVum"
      },
      "source": [
        "#Choose Loss Function and Optimizer\n",
        "criterion = nn.BCEWithLogitsLoss()\n",
        "optimizer = torch.optim.Adam(model.parameters())"
      ],
      "execution_count": 12,
      "outputs": []
    },
    {
      "cell_type": "markdown",
      "metadata": {
        "id": "FaqPo34VPo_5"
      },
      "source": [
        "### TRAIN MODEL "
      ]
    },
    {
      "cell_type": "code",
      "metadata": {
        "colab": {
          "base_uri": "https://localhost:8080/"
        },
        "id": "47xHn2isPxhp",
        "outputId": "19bb9e16-7201-4989-999f-16049f036247"
      },
      "source": [
        "n_epochs = 1000\n",
        "train_losses = []\n",
        "test_losses = []\n",
        "for it in range(n_epochs):\n",
        "  #prevent gradient accumulation\n",
        "  model.zero_grad()\n",
        "  \n",
        "  #forward pass\n",
        "  outputs = model(x_train)\n",
        "  loss = criterion(outputs,y_train)\n",
        "  train_losses.append(loss.item())\n",
        "\n",
        "  #test loss\n",
        "  test_outputs = model(x_test)\n",
        "  test_loss = criterion(test_outputs,y_test)\n",
        "  test_losses.append(test_loss.item())\n",
        "\n",
        "  #backward and optimize \n",
        "  loss.backward()\n",
        "  optimizer.step()\n",
        "  if it % 50 == 0:\n",
        "    print(f'Epoch {it}/{n_epochs}, Loss: {loss.item():0.4}')\n"
      ],
      "execution_count": 13,
      "outputs": [
        {
          "output_type": "stream",
          "text": [
            "Epoch 0/1000, Loss: 0.5763\n",
            "Epoch 50/1000, Loss: 0.3906\n",
            "Epoch 100/1000, Loss: 0.2992\n",
            "Epoch 150/1000, Loss: 0.2451\n",
            "Epoch 200/1000, Loss: 0.2091\n",
            "Epoch 250/1000, Loss: 0.1835\n",
            "Epoch 300/1000, Loss: 0.1645\n",
            "Epoch 350/1000, Loss: 0.1498\n",
            "Epoch 400/1000, Loss: 0.138\n",
            "Epoch 450/1000, Loss: 0.1285\n",
            "Epoch 500/1000, Loss: 0.1205\n",
            "Epoch 550/1000, Loss: 0.1137\n",
            "Epoch 600/1000, Loss: 0.1079\n",
            "Epoch 650/1000, Loss: 0.1028\n",
            "Epoch 700/1000, Loss: 0.09837\n",
            "Epoch 750/1000, Loss: 0.0944\n",
            "Epoch 800/1000, Loss: 0.09084\n",
            "Epoch 850/1000, Loss: 0.08763\n",
            "Epoch 900/1000, Loss: 0.08472\n",
            "Epoch 950/1000, Loss: 0.08206\n"
          ],
          "name": "stdout"
        }
      ]
    },
    {
      "cell_type": "code",
      "metadata": {
        "colab": {
          "base_uri": "https://localhost:8080/",
          "height": 265
        },
        "id": "4A6ZywU0RPny",
        "outputId": "52a8e53f-b3d2-4da4-8542-ae74a6e22d48"
      },
      "source": [
        "# Plot test error timeline\n",
        "plt.plot(train_losses,label = 'Train Loss')\n",
        "plt.plot(test_losses, label = 'Test Loss')\n",
        "plt.legend()\n",
        "plt.show()\n"
      ],
      "execution_count": 14,
      "outputs": [
        {
          "output_type": "display_data",
          "data": {
            "image/png": "[encoded data removed]",
            "text/plain": [
              "<Figure size 432x288 with 1 Axes>"
            ]
          },
          "metadata": {
            "tags": [],
            "needs_background": "light"
          }
        }
      ]
    },
    {
      "cell_type": "markdown",
      "metadata": {
        "id": "zLMzqybvSOT7"
      },
      "source": [
        "### EVALUATE MODEL "
      ]
    },
    {
      "cell_type": "code",
      "metadata": {
        "colab": {
          "base_uri": "https://localhost:8080/"
        },
        "id": "9qPku7T0SSVp",
        "outputId": "b9582086-e313-48e0-b40c-55c9196c533f"
      },
      "source": [
        "with torch.no_grad():\n",
        "  p_train = model(x_train)\n",
        "  p_train = np.array(p_train.numpy() > 0)\n",
        "  train_acc = np.mean(y_train.numpy() == p_train)\n",
        "\n",
        "  p_test = model(x_test)\n",
        "  p_test = np.array(p_test.numpy() > 0)\n",
        "  test_acc = np.mean(y_test.numpy() == p_test)\n",
        "  print(f'Train accuracy: {train_acc:0.4},Test accuracy: {test_acc:0.4}')"
      ],
      "execution_count": 15,
      "outputs": [
        {
          "output_type": "stream",
          "text": [
            "Train accuracy: 0.9816,Test accuracy: 0.9681\n"
          ],
          "name": "stdout"
        }
      ]
    }
  ]
}