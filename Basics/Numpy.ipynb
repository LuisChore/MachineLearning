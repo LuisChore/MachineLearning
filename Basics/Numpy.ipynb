{
  "nbformat": 4,
  "nbformat_minor": 0,
  "metadata": {
    "colab": {
      "name": "Numpy.ipynb",
      "provenance": [],
      "toc_visible": true
    },
    "kernelspec": {
      "name": "python3",
      "display_name": "Python 3"
    }
  },
  "cells": [
    {
      "cell_type": "markdown",
      "metadata": {
        "id": "WSpGjO8hkyad"
      },
      "source": [
        "\r\n",
        "\r\n",
        ">>> #   Arrays\r\n",
        "\r\n",
        "\r\n"
      ]
    },
    {
      "cell_type": "code",
      "metadata": {
        "id": "4Yg5fG9Orfjq"
      },
      "source": [
        "import numpy as np\r\n",
        "a = np.array([1,3,5,7])\r\n",
        "b = np.array([2,4,6,8])"
      ],
      "execution_count": null,
      "outputs": []
    },
    {
      "cell_type": "code",
      "metadata": {
        "colab": {
          "base_uri": "https://localhost:8080/"
        },
        "id": "RjMtAP8tr6d9",
        "outputId": "5d5609bd-9f1f-4af7-b9e7-046f98ac2009"
      },
      "source": [
        "a.shape"
      ],
      "execution_count": null,
      "outputs": [
        {
          "output_type": "execute_result",
          "data": {
            "text/plain": [
              "(4,)"
            ]
          },
          "metadata": {
            "tags": []
          },
          "execution_count": 2
        }
      ]
    },
    {
      "cell_type": "code",
      "metadata": {
        "colab": {
          "base_uri": "https://localhost:8080/"
        },
        "id": "YhFxFztMr6kb",
        "outputId": "1cceb175-fa8a-4dcc-a07e-40f4fed483f1"
      },
      "source": [
        "a.ndim"
      ],
      "execution_count": null,
      "outputs": [
        {
          "output_type": "execute_result",
          "data": {
            "text/plain": [
              "1"
            ]
          },
          "metadata": {
            "tags": []
          },
          "execution_count": 3
        }
      ]
    },
    {
      "cell_type": "markdown",
      "metadata": {
        "id": "oH1psUFvs0h-"
      },
      "source": [
        "## Norm\r\n",
        "$||a|| = \\sqrt{\\sum_{d=1}^Da_d^2}$ "
      ]
    },
    {
      "cell_type": "code",
      "metadata": {
        "colab": {
          "base_uri": "https://localhost:8080/"
        },
        "id": "0MHFpWmKtlvY",
        "outputId": "3c6fea7f-5331-4e54-acde-1a9316e469e2"
      },
      "source": [
        "np.linalg.norm(a)"
      ],
      "execution_count": null,
      "outputs": [
        {
          "output_type": "execute_result",
          "data": {
            "text/plain": [
              "9.16515138991168"
            ]
          },
          "metadata": {
            "tags": []
          },
          "execution_count": 4
        }
      ]
    },
    {
      "cell_type": "markdown",
      "metadata": {
        "id": "icEgHGPcseqt"
      },
      "source": [
        "## Sum\r\n",
        "\r\n",
        "$a+b = \\sum_{d = 1}^D a_d + b_d$"
      ]
    },
    {
      "cell_type": "code",
      "metadata": {
        "colab": {
          "base_uri": "https://localhost:8080/"
        },
        "id": "FHraDB2ussok",
        "outputId": "0f02be5e-65a1-45d2-e3c5-27d7f6241ca2"
      },
      "source": [
        "a + b"
      ],
      "execution_count": null,
      "outputs": [
        {
          "output_type": "execute_result",
          "data": {
            "text/plain": [
              "array([ 3,  7, 11, 15])"
            ]
          },
          "metadata": {
            "tags": []
          },
          "execution_count": 5
        }
      ]
    },
    {
      "cell_type": "markdown",
      "metadata": {
        "id": "zT2kCA_4lGv8"
      },
      "source": [
        "\r\n",
        "\r\n",
        "## Dot Product\r\n",
        "$a \\cdot b = a^Tb = \\sum_{d=1}^D a_db_d $\r\n",
        "\r\n",
        "$a \\cdot b = ||{a}||\\; ||b||\\;cos\\theta$"
      ]
    },
    {
      "cell_type": "code",
      "metadata": {
        "colab": {
          "base_uri": "https://localhost:8080/"
        },
        "id": "LzNDgP3rx1su",
        "outputId": "38ce686d-e020-4194-d760-38f0c27767dc"
      },
      "source": [
        "a @ b"
      ],
      "execution_count": null,
      "outputs": [
        {
          "output_type": "execute_result",
          "data": {
            "text/plain": [
              "100"
            ]
          },
          "metadata": {
            "tags": []
          },
          "execution_count": 6
        }
      ]
    },
    {
      "cell_type": "code",
      "metadata": {
        "colab": {
          "base_uri": "https://localhost:8080/"
        },
        "id": "CsdaCDv1ljHS",
        "outputId": "f1d8fbac-7aca-4e36-c349-3fc2d4328d53"
      },
      "source": [
        "a.dot(b)"
      ],
      "execution_count": null,
      "outputs": [
        {
          "output_type": "execute_result",
          "data": {
            "text/plain": [
              "100"
            ]
          },
          "metadata": {
            "tags": []
          },
          "execution_count": 7
        }
      ]
    },
    {
      "cell_type": "markdown",
      "metadata": {
        "id": "kNloHzj1pEHl"
      },
      "source": [
        "##Element-Wise Operations"
      ]
    },
    {
      "cell_type": "code",
      "metadata": {
        "colab": {
          "base_uri": "https://localhost:8080/"
        },
        "id": "vF6DEmzpvIrs",
        "outputId": "395ffed7-1ebe-4d09-bd35-caa8da41773f"
      },
      "source": [
        "2 * a"
      ],
      "execution_count": null,
      "outputs": [
        {
          "output_type": "execute_result",
          "data": {
            "text/plain": [
              "array([ 2,  6, 10, 14])"
            ]
          },
          "metadata": {
            "tags": []
          },
          "execution_count": 8
        }
      ]
    },
    {
      "cell_type": "code",
      "metadata": {
        "colab": {
          "base_uri": "https://localhost:8080/"
        },
        "id": "pEoSkaXKvLR7",
        "outputId": "d83b92b4-beb8-48c4-f150-3515fededdcb"
      },
      "source": [
        "np.exp(a)"
      ],
      "execution_count": null,
      "outputs": [
        {
          "output_type": "execute_result",
          "data": {
            "text/plain": [
              "array([   2.71828183,   20.08553692,  148.4131591 , 1096.63315843])"
            ]
          },
          "metadata": {
            "tags": []
          },
          "execution_count": 9
        }
      ]
    },
    {
      "cell_type": "code",
      "metadata": {
        "colab": {
          "base_uri": "https://localhost:8080/"
        },
        "id": "MAaAzNkovSyS",
        "outputId": "e11fd27e-38fb-4895-ab83-4594841484bd"
      },
      "source": [
        "2.5 + a"
      ],
      "execution_count": null,
      "outputs": [
        {
          "output_type": "execute_result",
          "data": {
            "text/plain": [
              "array([3.5, 5.5, 7.5, 9.5])"
            ]
          },
          "metadata": {
            "tags": []
          },
          "execution_count": 10
        }
      ]
    },
    {
      "cell_type": "markdown",
      "metadata": {
        "id": "-b87rtUHwO6e"
      },
      "source": [
        ">>> # Miscellaneous"
      ]
    },
    {
      "cell_type": "markdown",
      "metadata": {
        "id": "OBq59kCD6aZF"
      },
      "source": [
        "## Generating Data"
      ]
    },
    {
      "cell_type": "code",
      "metadata": {
        "colab": {
          "base_uri": "https://localhost:8080/"
        },
        "id": "uCGLMGF26eF9",
        "outputId": "c28e8cda-1a68-489b-bae4-931b65250bf6"
      },
      "source": [
        "np.zeros((2,3))"
      ],
      "execution_count": null,
      "outputs": [
        {
          "output_type": "execute_result",
          "data": {
            "text/plain": [
              "array([[0., 0., 0.],\n",
              "       [0., 0., 0.]])"
            ]
          },
          "metadata": {
            "tags": []
          },
          "execution_count": 11
        }
      ]
    },
    {
      "cell_type": "code",
      "metadata": {
        "colab": {
          "base_uri": "https://localhost:8080/"
        },
        "id": "Wbu6oTXY6qn_",
        "outputId": "3a3da537-cf22-4ffa-813a-4aeae5553593"
      },
      "source": [
        "np.ones((3,2)) * 7"
      ],
      "execution_count": null,
      "outputs": [
        {
          "output_type": "execute_result",
          "data": {
            "text/plain": [
              "array([[7., 7.],\n",
              "       [7., 7.],\n",
              "       [7., 7.]])"
            ]
          },
          "metadata": {
            "tags": []
          },
          "execution_count": 12
        }
      ]
    },
    {
      "cell_type": "code",
      "metadata": {
        "colab": {
          "base_uri": "https://localhost:8080/"
        },
        "id": "P-zUQQMI68wt",
        "outputId": "6a452f30-5fd6-43fa-8682-949c6dfa13cd"
      },
      "source": [
        "np.eye(3)"
      ],
      "execution_count": null,
      "outputs": [
        {
          "output_type": "execute_result",
          "data": {
            "text/plain": [
              "array([[1., 0., 0.],\n",
              "       [0., 1., 0.],\n",
              "       [0., 0., 1.]])"
            ]
          },
          "metadata": {
            "tags": []
          },
          "execution_count": 13
        }
      ]
    },
    {
      "cell_type": "markdown",
      "metadata": {
        "id": "YvmCtZ-swWFH"
      },
      "source": [
        "## Random"
      ]
    },
    {
      "cell_type": "code",
      "metadata": {
        "colab": {
          "base_uri": "https://localhost:8080/"
        },
        "id": "fjtbZQMvwU0E",
        "outputId": "fb10f788-9abc-43ab-a6c0-4de4188bdc50"
      },
      "source": [
        "np.random.rand() # Uniform Distribution"
      ],
      "execution_count": null,
      "outputs": [
        {
          "output_type": "execute_result",
          "data": {
            "text/plain": [
              "0.9803951750451535"
            ]
          },
          "metadata": {
            "tags": []
          },
          "execution_count": 14
        }
      ]
    },
    {
      "cell_type": "code",
      "metadata": {
        "colab": {
          "base_uri": "https://localhost:8080/"
        },
        "id": "bmO-7UoY7CQx",
        "outputId": "87bc9774-bb2a-46a1-e4cb-c957f6d39033"
      },
      "source": [
        "np.random.rand(3,2)"
      ],
      "execution_count": null,
      "outputs": [
        {
          "output_type": "execute_result",
          "data": {
            "text/plain": [
              "array([[0.9382362 , 0.21501134],\n",
              "       [0.90293724, 0.29206137],\n",
              "       [0.20741596, 0.77980032]])"
            ]
          },
          "metadata": {
            "tags": []
          },
          "execution_count": 15
        }
      ]
    },
    {
      "cell_type": "code",
      "metadata": {
        "colab": {
          "base_uri": "https://localhost:8080/"
        },
        "id": "2qdRTWbcw2op",
        "outputId": "5c47a472-338b-4e73-9902-75b304ae8ba3"
      },
      "source": [
        "np.random.randn() # Standard Normal Distribution"
      ],
      "execution_count": null,
      "outputs": [
        {
          "output_type": "execute_result",
          "data": {
            "text/plain": [
              "-1.4675738732930441"
            ]
          },
          "metadata": {
            "tags": []
          },
          "execution_count": 16
        }
      ]
    },
    {
      "cell_type": "code",
      "metadata": {
        "colab": {
          "base_uri": "https://localhost:8080/"
        },
        "id": "IbrtJYA878Fj",
        "outputId": "62cb2717-9d9a-4a61-fdad-971563e596ac"
      },
      "source": [
        "np.random.randn(2,3)"
      ],
      "execution_count": null,
      "outputs": [
        {
          "output_type": "execute_result",
          "data": {
            "text/plain": [
              "array([[-0.9032918 ,  0.64783509,  0.58857644],\n",
              "       [-1.88848489,  0.30180312, -0.50844459]])"
            ]
          },
          "metadata": {
            "tags": []
          },
          "execution_count": 17
        }
      ]
    },
    {
      "cell_type": "code",
      "metadata": {
        "id": "MPlgn1bl9Qkg"
      },
      "source": [
        "R = np.random.randint(1,101,size = 1000) # Discrete uniform distribution"
      ],
      "execution_count": null,
      "outputs": []
    },
    {
      "cell_type": "code",
      "metadata": {
        "colab": {
          "base_uri": "https://localhost:8080/"
        },
        "id": "SYv_cJwu9aL0",
        "outputId": "67d0cea1-64d2-4ab0-b1f5-37ca2f90099a"
      },
      "source": [
        "R.mean()"
      ],
      "execution_count": null,
      "outputs": [
        {
          "output_type": "execute_result",
          "data": {
            "text/plain": [
              "50.008"
            ]
          },
          "metadata": {
            "tags": []
          },
          "execution_count": 19
        }
      ]
    },
    {
      "cell_type": "code",
      "metadata": {
        "colab": {
          "base_uri": "https://localhost:8080/"
        },
        "id": "6B7r6Q3hGDzf",
        "outputId": "35c3d25c-b18c-4455-b0b5-832ea3c880c1"
      },
      "source": [
        "np.random.choice(R,size = 3, replace = False) "
      ],
      "execution_count": null,
      "outputs": [
        {
          "output_type": "execute_result",
          "data": {
            "text/plain": [
              "array([84, 99, 91])"
            ]
          },
          "metadata": {
            "tags": []
          },
          "execution_count": 20
        }
      ]
    },
    {
      "cell_type": "markdown",
      "metadata": {
        "id": "RlRtoZF2-Aa2"
      },
      "source": [
        "## Statistical Methods"
      ]
    },
    {
      "cell_type": "code",
      "metadata": {
        "id": "N5ppXTay8K12"
      },
      "source": [
        "A = np.random.randn(10000) #  Array"
      ],
      "execution_count": null,
      "outputs": []
    },
    {
      "cell_type": "code",
      "metadata": {
        "colab": {
          "base_uri": "https://localhost:8080/"
        },
        "id": "1PKvYoPF8VjI",
        "outputId": "775306f0-e312-41dc-9e85-8d69d3cbf583"
      },
      "source": [
        "A.mean()"
      ],
      "execution_count": null,
      "outputs": [
        {
          "output_type": "execute_result",
          "data": {
            "text/plain": [
              "-0.002291456271984444"
            ]
          },
          "metadata": {
            "tags": []
          },
          "execution_count": 22
        }
      ]
    },
    {
      "cell_type": "code",
      "metadata": {
        "colab": {
          "base_uri": "https://localhost:8080/"
        },
        "id": "9_-1ZCNG8Xev",
        "outputId": "7deb9936-7b82-4f91-cd90-ce448fd6b4f9"
      },
      "source": [
        "A.var()"
      ],
      "execution_count": null,
      "outputs": [
        {
          "output_type": "execute_result",
          "data": {
            "text/plain": [
              "0.9995527223058854"
            ]
          },
          "metadata": {
            "tags": []
          },
          "execution_count": 23
        }
      ]
    },
    {
      "cell_type": "code",
      "metadata": {
        "colab": {
          "base_uri": "https://localhost:8080/"
        },
        "id": "6lItu8fZ8-yK",
        "outputId": "3e746b34-5489-4439-f605-940e4fa3f2ec"
      },
      "source": [
        "A.std()"
      ],
      "execution_count": null,
      "outputs": [
        {
          "output_type": "execute_result",
          "data": {
            "text/plain": [
              "0.9997763361401816"
            ]
          },
          "metadata": {
            "tags": []
          },
          "execution_count": 24
        }
      ]
    },
    {
      "cell_type": "code",
      "metadata": {
        "id": "j74kuNWZ9Ly5"
      },
      "source": [
        "M = np.random.randn(1000,3) # Matrix"
      ],
      "execution_count": null,
      "outputs": []
    },
    {
      "cell_type": "code",
      "metadata": {
        "colab": {
          "base_uri": "https://localhost:8080/"
        },
        "id": "fcL78IG8-X_o",
        "outputId": "2338acd4-bf00-49b8-9e8e-114fe21aad14"
      },
      "source": [
        "M.mean(axis = 0) # Mean of each column"
      ],
      "execution_count": null,
      "outputs": [
        {
          "output_type": "execute_result",
          "data": {
            "text/plain": [
              "array([-0.01270171, -0.04153376, -0.00119593])"
            ]
          },
          "metadata": {
            "tags": []
          },
          "execution_count": 26
        }
      ]
    },
    {
      "cell_type": "code",
      "metadata": {
        "colab": {
          "base_uri": "https://localhost:8080/"
        },
        "id": "KxF9QT3bCSlc",
        "outputId": "57d49e90-91ca-4ced-e8c5-76982608b2ea"
      },
      "source": [
        "M.mean(axis = 1).shape"
      ],
      "execution_count": null,
      "outputs": [
        {
          "output_type": "execute_result",
          "data": {
            "text/plain": [
              "(1000,)"
            ]
          },
          "metadata": {
            "tags": []
          },
          "execution_count": 27
        }
      ]
    },
    {
      "cell_type": "markdown",
      "metadata": {
        "id": "oxajkfg3CZN7"
      },
      "source": [
        "\r\n",
        "Suppose M is a data sets (1000 samples, 3 attributes)\r\n",
        "\r\n",
        "Covariance for each attribute\r\n"
      ]
    },
    {
      "cell_type": "code",
      "metadata": {
        "colab": {
          "base_uri": "https://localhost:8080/"
        },
        "id": "Z7jkhiw8DUmE",
        "outputId": "5e91a0e0-278a-49fe-f073-1d7ad2bf350f"
      },
      "source": [
        "# Transpose because the function treats each columns as a sample, not each row\r\n",
        "np.cov(M.T) "
      ],
      "execution_count": null,
      "outputs": [
        {
          "output_type": "execute_result",
          "data": {
            "text/plain": [
              "array([[ 0.9588717 , -0.05132158,  0.00245986],\n",
              "       [-0.05132158,  1.01200779,  0.05290432],\n",
              "       [ 0.00245986,  0.05290432,  0.99593089]])"
            ]
          },
          "metadata": {
            "tags": []
          },
          "execution_count": 28
        }
      ]
    },
    {
      "cell_type": "markdown",
      "metadata": {
        "id": "bt91XGpKxGT9"
      },
      "source": [
        ">>> # Matrices"
      ]
    },
    {
      "cell_type": "code",
      "metadata": {
        "id": "FqSmi7BPxMo0"
      },
      "source": [
        "c = np.array([[1,2,3],[4,5,6],[7,8,9],[10,11,12]])\r\n",
        "d = np.random.randn(4,3) * 5"
      ],
      "execution_count": null,
      "outputs": []
    },
    {
      "cell_type": "code",
      "metadata": {
        "colab": {
          "base_uri": "https://localhost:8080/"
        },
        "id": "lN9OQesjzZ15",
        "outputId": "4e918f82-9868-4972-81d6-94f107e7a99f"
      },
      "source": [
        "d"
      ],
      "execution_count": null,
      "outputs": [
        {
          "output_type": "execute_result",
          "data": {
            "text/plain": [
              "array([[ 4.26734593,  4.32356007, -6.25881874],\n",
              "       [-1.71474903,  3.8850364 , -6.58154203],\n",
              "       [ 2.78340119,  1.81872673, -1.86173697],\n",
              "       [ 3.73602096,  3.03136485, -4.63813832]])"
            ]
          },
          "metadata": {
            "tags": []
          },
          "execution_count": 30
        }
      ]
    },
    {
      "cell_type": "code",
      "metadata": {
        "colab": {
          "base_uri": "https://localhost:8080/"
        },
        "id": "_FsywsBXxYLH",
        "outputId": "7a1007ea-ac0e-4cb7-9785-91903a31b891"
      },
      "source": [
        "c.shape"
      ],
      "execution_count": null,
      "outputs": [
        {
          "output_type": "execute_result",
          "data": {
            "text/plain": [
              "(4, 3)"
            ]
          },
          "metadata": {
            "tags": []
          },
          "execution_count": 31
        }
      ]
    },
    {
      "cell_type": "code",
      "metadata": {
        "colab": {
          "base_uri": "https://localhost:8080/"
        },
        "id": "W0pSwF5QxZPV",
        "outputId": "38b1af58-0c7d-45cb-8695-322d9a404518"
      },
      "source": [
        "c.ndim"
      ],
      "execution_count": null,
      "outputs": [
        {
          "output_type": "execute_result",
          "data": {
            "text/plain": [
              "2"
            ]
          },
          "metadata": {
            "tags": []
          },
          "execution_count": 32
        }
      ]
    },
    {
      "cell_type": "markdown",
      "metadata": {
        "id": "E2ibsTa8yDjL"
      },
      "source": [
        "## Diagonals"
      ]
    },
    {
      "cell_type": "code",
      "metadata": {
        "colab": {
          "base_uri": "https://localhost:8080/"
        },
        "id": "eNPmS8UVyIUB",
        "outputId": "21df2ef4-ce53-42ef-dcf2-c6c6566dc7bb"
      },
      "source": [
        "np.eye(5)"
      ],
      "execution_count": null,
      "outputs": [
        {
          "output_type": "execute_result",
          "data": {
            "text/plain": [
              "array([[1., 0., 0., 0., 0.],\n",
              "       [0., 1., 0., 0., 0.],\n",
              "       [0., 0., 1., 0., 0.],\n",
              "       [0., 0., 0., 1., 0.],\n",
              "       [0., 0., 0., 0., 1.]])"
            ]
          },
          "metadata": {
            "tags": []
          },
          "execution_count": 33
        }
      ]
    },
    {
      "cell_type": "code",
      "metadata": {
        "colab": {
          "base_uri": "https://localhost:8080/"
        },
        "id": "O3Evt62QySuu",
        "outputId": "b86eb317-6100-470a-9f29-9b1bb22b1b99"
      },
      "source": [
        "np.diag([1,3,5])"
      ],
      "execution_count": null,
      "outputs": [
        {
          "output_type": "execute_result",
          "data": {
            "text/plain": [
              "array([[1, 0, 0],\n",
              "       [0, 3, 0],\n",
              "       [0, 0, 5]])"
            ]
          },
          "metadata": {
            "tags": []
          },
          "execution_count": 34
        }
      ]
    },
    {
      "cell_type": "code",
      "metadata": {
        "colab": {
          "base_uri": "https://localhost:8080/"
        },
        "id": "DEAqsq-N5Mt9",
        "outputId": "484f8b5a-9d8f-450c-d7e1-5612f441c8d2"
      },
      "source": [
        "np.diag(c)"
      ],
      "execution_count": null,
      "outputs": [
        {
          "output_type": "execute_result",
          "data": {
            "text/plain": [
              "array([1, 5, 9])"
            ]
          },
          "metadata": {
            "tags": []
          },
          "execution_count": 35
        }
      ]
    },
    {
      "cell_type": "markdown",
      "metadata": {
        "id": "vQdUsRn0zl7U"
      },
      "source": [
        "## Sum\r\n"
      ]
    },
    {
      "cell_type": "code",
      "metadata": {
        "colab": {
          "base_uri": "https://localhost:8080/"
        },
        "id": "kUXsO_dFzp6B",
        "outputId": "3726dac4-bd8f-4ff3-9313-4cf5b4814f74"
      },
      "source": [
        "c + d"
      ],
      "execution_count": null,
      "outputs": [
        {
          "output_type": "execute_result",
          "data": {
            "text/plain": [
              "array([[ 5.26734593,  6.32356007, -3.25881874],\n",
              "       [ 2.28525097,  8.8850364 , -0.58154203],\n",
              "       [ 9.78340119,  9.81872673,  7.13826303],\n",
              "       [13.73602096, 14.03136485,  7.36186168]])"
            ]
          },
          "metadata": {
            "tags": []
          },
          "execution_count": 36
        }
      ]
    },
    {
      "cell_type": "markdown",
      "metadata": {
        "id": "K-E5I8Luzys9"
      },
      "source": [
        "## Multiplication"
      ]
    },
    {
      "cell_type": "code",
      "metadata": {
        "id": "QrT6Ox1cz2IX"
      },
      "source": [
        "e = np.random.randn(3,5)"
      ],
      "execution_count": null,
      "outputs": []
    },
    {
      "cell_type": "code",
      "metadata": {
        "colab": {
          "base_uri": "https://localhost:8080/"
        },
        "id": "c4YViJF_0L2w",
        "outputId": "9f142dec-e38d-4a8c-d3e7-f6e3f2ffcb81"
      },
      "source": [
        "(d.shape , e.shape)"
      ],
      "execution_count": null,
      "outputs": [
        {
          "output_type": "execute_result",
          "data": {
            "text/plain": [
              "((4, 3), (3, 5))"
            ]
          },
          "metadata": {
            "tags": []
          },
          "execution_count": 38
        }
      ]
    },
    {
      "cell_type": "code",
      "metadata": {
        "colab": {
          "base_uri": "https://localhost:8080/"
        },
        "id": "F-QZo4VY0Rqt",
        "outputId": "01c943b8-0acd-4d50-d9fc-6ad0d6f39041"
      },
      "source": [
        "d.dot(e)"
      ],
      "execution_count": null,
      "outputs": [
        {
          "output_type": "execute_result",
          "data": {
            "text/plain": [
              "array([[-0.28779918,  1.11513742, 10.52961157,  1.81393322,  5.69884984],\n",
              "       [-4.51074529,  5.61522731, 18.27115421, -4.44284202,  1.98533421],\n",
              "       [ 0.89898792, -0.83180445,  1.99270551,  2.13031917,  2.58702099],\n",
              "       [ 0.20284202,  0.46522124,  6.74795545,  1.90607518,  4.64827347]])"
            ]
          },
          "metadata": {
            "tags": []
          },
          "execution_count": 39
        }
      ]
    },
    {
      "cell_type": "markdown",
      "metadata": {
        "id": "jVg5Na7V1dcz"
      },
      "source": [
        "## Determinant"
      ]
    },
    {
      "cell_type": "code",
      "metadata": {
        "colab": {
          "base_uri": "https://localhost:8080/"
        },
        "id": "oOMafpqM1_cX",
        "outputId": "539c1baf-285a-4e62-a2e7-3cebff2b1024"
      },
      "source": [
        "f = np.random.randn(3,3)\r\n",
        "f"
      ],
      "execution_count": null,
      "outputs": [
        {
          "output_type": "execute_result",
          "data": {
            "text/plain": [
              "array([[ 0.23565229,  0.68348704, -0.69165424],\n",
              "       [-1.65671484, -1.75026948, -0.86280585],\n",
              "       [-0.17202157,  1.28588378, -0.20149748]])"
            ]
          },
          "metadata": {
            "tags": []
          },
          "execution_count": 40
        }
      ]
    },
    {
      "cell_type": "code",
      "metadata": {
        "colab": {
          "base_uri": "https://localhost:8080/"
        },
        "id": "0GMWt9JF2U2G",
        "outputId": "fad942e1-4ea6-409d-9c4d-15bf8edb1761"
      },
      "source": [
        "np.linalg.det(f)"
      ],
      "execution_count": null,
      "outputs": [
        {
          "output_type": "execute_result",
          "data": {
            "text/plain": [
              "1.8995437039289247"
            ]
          },
          "metadata": {
            "tags": []
          },
          "execution_count": 41
        }
      ]
    },
    {
      "cell_type": "markdown",
      "metadata": {
        "id": "u9lJn25f2qgJ"
      },
      "source": [
        "## Inverse"
      ]
    },
    {
      "cell_type": "code",
      "metadata": {
        "id": "68cUB3yK2ruO"
      },
      "source": [
        "f_inv = np.linalg.inv(f)"
      ],
      "execution_count": null,
      "outputs": []
    },
    {
      "cell_type": "code",
      "metadata": {
        "colab": {
          "base_uri": "https://localhost:8080/"
        },
        "id": "jHP1jeVV4SqV",
        "outputId": "9fcc8858-9c4e-41cd-bce0-4594a183ccbd"
      },
      "source": [
        "f_inv.dot(f)"
      ],
      "execution_count": null,
      "outputs": [
        {
          "output_type": "execute_result",
          "data": {
            "text/plain": [
              "array([[ 1.00000000e+00, -1.90965117e-17, -6.78130606e-18],\n",
              "       [-5.14050704e-18,  1.00000000e+00, -1.25965636e-17],\n",
              "       [ 3.14113962e-18,  1.42206128e-17,  1.00000000e+00]])"
            ]
          },
          "metadata": {
            "tags": []
          },
          "execution_count": 43
        }
      ]
    },
    {
      "cell_type": "markdown",
      "metadata": {
        "id": "lnDwMLJP4LWN"
      },
      "source": [
        "## Matrix trace\r\n",
        "In linear algebra, the trace of a square matrix A, denoted tr(A), is defined to be the sum of elements on the main diagonal (from the upper left to the lower right) of A"
      ]
    },
    {
      "cell_type": "code",
      "metadata": {
        "colab": {
          "base_uri": "https://localhost:8080/"
        },
        "id": "T1tNIYGM4Usn",
        "outputId": "89ea7c46-fa5d-418c-a144-5c6cdd1953ed"
      },
      "source": [
        "np.trace(f)"
      ],
      "execution_count": null,
      "outputs": [
        {
          "output_type": "execute_result",
          "data": {
            "text/plain": [
              "-1.7161146711757764"
            ]
          },
          "metadata": {
            "tags": []
          },
          "execution_count": 44
        }
      ]
    },
    {
      "cell_type": "markdown",
      "metadata": {
        "id": "H2m24ejFHG9H"
      },
      "source": [
        "## Eigenvalues and eigenvectors\r\n",
        "\r\n",
        "np.ligalg.eig returns the (eigenvalues & eigenvectors) The eigenvectors are returned via columns"
      ]
    },
    {
      "cell_type": "code",
      "metadata": {
        "id": "Y3WY8fyTHKBm"
      },
      "source": [
        "g = np.random.randint(0,10,size=(3,3))\r\n",
        "Lam,V = np.linalg.eig(g)"
      ],
      "execution_count": null,
      "outputs": []
    },
    {
      "cell_type": "code",
      "metadata": {
        "colab": {
          "base_uri": "https://localhost:8080/"
        },
        "id": "RAgIT3kNJKFO",
        "outputId": "4b3cb3c3-1344-4b31-b44b-62f9eca1a159"
      },
      "source": [
        "V"
      ],
      "execution_count": null,
      "outputs": [
        {
          "output_type": "execute_result",
          "data": {
            "text/plain": [
              "array([[-0.47514597+0.j        , -0.43063942-0.44259876j,\n",
              "        -0.43063942+0.44259876j],\n",
              "       [-0.70487846+0.j        ,  0.63353764+0.j        ,\n",
              "         0.63353764-0.j        ],\n",
              "       [-0.52667131+0.j        , -0.24380183+0.39729933j,\n",
              "        -0.24380183-0.39729933j]])"
            ]
          },
          "metadata": {
            "tags": []
          },
          "execution_count": 46
        }
      ]
    },
    {
      "cell_type": "code",
      "metadata": {
        "colab": {
          "base_uri": "https://localhost:8080/"
        },
        "id": "8rMIjEa4Oabd",
        "outputId": "0872f5a8-559d-49d2-9d8a-9cb930cc79b0"
      },
      "source": [
        "V[:,0] * Lam[0]"
      ],
      "execution_count": null,
      "outputs": [
        {
          "output_type": "execute_result",
          "data": {
            "text/plain": [
              "array([ -8.28806519+0.j, -12.29533432+0.j,  -9.18683181+0.j])"
            ]
          },
          "metadata": {
            "tags": []
          },
          "execution_count": 47
        }
      ]
    },
    {
      "cell_type": "code",
      "metadata": {
        "colab": {
          "base_uri": "https://localhost:8080/"
        },
        "id": "xAU1Jh2BJdxe",
        "outputId": "6a7e92a1-0683-4af2-90ce-df5d2f1488e1"
      },
      "source": [
        "g @ V[:,0]"
      ],
      "execution_count": null,
      "outputs": [
        {
          "output_type": "execute_result",
          "data": {
            "text/plain": [
              "array([ -8.28806519+0.j, -12.29533432+0.j,  -9.18683181+0.j])"
            ]
          },
          "metadata": {
            "tags": []
          },
          "execution_count": 48
        }
      ]
    },
    {
      "cell_type": "markdown",
      "metadata": {
        "id": "ivdiOIJyyvpd"
      },
      "source": [
        "## Solving Linear Equation"
      ]
    },
    {
      "cell_type": "code",
      "metadata": {
        "colab": {
          "base_uri": "https://localhost:8080/"
        },
        "id": "BluAAhMpyyY-",
        "outputId": "c4ad1df9-faf4-417a-bcb3-a44a6dfcdd26"
      },
      "source": [
        "# Ax = b\r\n",
        "A = np.array([[1,1],[1.5,4]])\r\n",
        "b = np.array([2200,5050])\r\n",
        "x = np.linalg.solve(A,b)\r\n",
        "x"
      ],
      "execution_count": null,
      "outputs": [
        {
          "output_type": "execute_result",
          "data": {
            "text/plain": [
              "array([1500.,  700.])"
            ]
          },
          "metadata": {
            "tags": []
          },
          "execution_count": 50
        }
      ]
    }
  ]
}